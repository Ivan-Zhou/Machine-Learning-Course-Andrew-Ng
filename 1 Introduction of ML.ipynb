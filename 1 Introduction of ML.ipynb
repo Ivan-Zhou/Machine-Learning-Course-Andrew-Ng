{
 "cells": [
  {
   "cell_type": "markdown",
   "metadata": {},
   "source": [
    "## Defination\n",
    "> **Arthur Samuel**: \"the field of study that gives computers the ability to learn without being explicitly programmed.\"\n",
    "\n",
    "> **Tom Mitchell**: \"A computer program is said to learn from experience E with respect to some class of tasks T and performance measure P, if its performance at tasks in T, as measured by P, improves with experience E.\"\n",
    "\n",
    "### Supervised Learning\n",
    "- Given a data set in which the \"right answers\" were given\n",
    "    - Example: \n",
    "\t\t- Several actual prices for houses of difference size\n",
    "\t\t- Email spam problem\n",
    "\t\t- Classify patients into groups of having diabetes or not\n",
    "\t- Goal: produce more right answers\n",
    "- Regression problem: predict continuous valued output\n",
    "- Classification Question: predict discrete output (0/1, 0/1/2/3)\n",
    "\t- There could be more than one input (feature)\n",
    "\t\t- In the case of Probability of Tumor: Tumor size, age, clump thickness, uniformity of cell shape, etc.\n",
    "\n",
    "### Unsupervised Learning\n",
    "- Give dataset without clustering or explaining the data, and ask the machine to automatically find structure in the data and cluster individuals into types\n",
    "- Example\n",
    "\t- Given a set of news articles found on the web, group them into set of articles about the same story\n",
    "\t- Given a database of customer data, automatically discover market segments and group customers into different market segments\n",
    "\t- Cocktail Party Problem: in a party with many people and multiple microphone, analyze and identify different sources of recording to separate them\n",
    "    \n",
    "> [Course Wiki](https://share.coursera.org/wiki/index.php/ML:Main)"
   ]
  }
 ],
 "metadata": {
  "anaconda-cloud": {},
  "kernelspec": {
   "display_name": "Python [default]",
   "language": "python",
   "name": "python3"
  },
  "language_info": {
   "codemirror_mode": {
    "name": "ipython",
    "version": 3
   },
   "file_extension": ".py",
   "mimetype": "text/x-python",
   "name": "python",
   "nbconvert_exporter": "python",
   "pygments_lexer": "ipython3",
   "version": "3.5.2"
  }
 },
 "nbformat": 4,
 "nbformat_minor": 1
}
