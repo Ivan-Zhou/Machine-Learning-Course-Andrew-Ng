{
 "cells": [
  {
   "cell_type": "markdown",
   "metadata": {},
   "source": [
    "## Clustering\n",
    "Application\n",
    "- Market segmentation\n",
    "- Social network analysis\n",
    "- Organize computing clusters: which computers in the fleet to work together\n",
    "- Astronomical data analysis\n",
    "\n",
    "### K-Means Algorithms\n",
    "**By far the most used algorithms for clustering**\n",
    "\n",
    "Input\n",
    "- K: number of clusters\n",
    "- $X^{i}s$: Training set\n",
    "\n",
    "Algorithms:\n",
    "![W8-KMEAN-ALGO](Plots/W8-KMEAN-ALGO)\n",
    "\n",
    "#### Optimization Objective - Minimize the Cost\n",
    "Define: $\\mu_c^{(i)}$ = centroid of cluster to which the data point $x^{(i)}$ has been assigned\n",
    "\n",
    "**The Cost**: $J(c^{(1)},...,c^{(m)},\\mu_1,...,\\mu_K) = \\frac{1}{m}\\sum_{i=1}^m ||x^{(i)}-\\mu_c^{(i)}||^2$\n",
    "- Also called the *distortion function*\n",
    "\n",
    "The objective of the K-mean is to **minimize the Cost Function**\n",
    "- Position the clustering centroids to where minimize the overall cost\n",
    "\n",
    "#### Random Initialization\n",
    "Randomly assign $K$ distinct centroids among training examples (instead of the empty space)\n",
    "\n",
    "Different initialization may result in difference local optima\n",
    "- Solution: run multiple times and pick clustering that gives the lowest cost\n",
    "    - Try 100 different initialization, for example\n",
    "\n",
    "#### Choose the number of clusters ($K$)\n",
    "- No best rule of thumb\n",
    "- Visualization will help\n",
    "    - Try different k as well as initialization and see how the result will be \n",
    "- Think of your purpose: does this clustering result serves your purpose well? Does it make sense?\n",
    "- **Elbow Method**\n",
    "    - ![W8-K-ELBOW](Plots/W8-K-ELBOW.png)\n",
    "    - It may be ambiguous; you can try different intialization"
   ]
  }
 ],
 "metadata": {
  "kernelspec": {
   "display_name": "Python 2",
   "language": "python",
   "name": "python2"
  },
  "language_info": {
   "codemirror_mode": {
    "name": "ipython",
    "version": 2
   },
   "file_extension": ".py",
   "mimetype": "text/x-python",
   "name": "python",
   "nbconvert_exporter": "python",
   "pygments_lexer": "ipython2",
   "version": "2.7.6"
  }
 },
 "nbformat": 4,
 "nbformat_minor": 1
}
