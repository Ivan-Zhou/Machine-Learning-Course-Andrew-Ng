{
 "cells": [
  {
   "cell_type": "markdown",
   "metadata": {},
   "source": [
    "## Problem Formulation\n",
    "![W9-PRED-RATING](Plots/W9-PRED-RATING.png)\n",
    "**Goal**: come up with an algorithm to predict the missing Movie Rating with the given data\n",
    "\n",
    "## Methods"
   ]
  },
  {
   "cell_type": "markdown",
   "metadata": {},
   "source": [
    "### Content Based Recommendations\n",
    "Rating is predicted based on the features of the movies\n",
    "- $x^{(i)}$: Feature vector of each movie $i$ \n",
    "    - Contains boolean variables to indicate whether the movie is of types romance, action, and so on\n",
    "    - By default, the first element of $x$ is 1\n",
    "    - Each movie $i$ has a unique $x^{(i)}$\n",
    "- $\\theta^{(j)}$: parameter vector for user $j$:\n",
    "    - By default, the first element of $\\theta$ is 0\n",
    "    - Each user $j$ has a unique $\\theta^{(j)}$\n",
    "- For each user $j$, learn a parameter vector $\\theta^{(j)}$, so that we can **predict user's rating on movie $i$ as $(\\theta^{(j)})^T x^{(i)}$ stars**\n",
    "    - Essentially a linear regression\n",
    "\n",
    "#### Training\n",
    "Learn from **all of the movies the user $j$ has rated**:\n",
    "![W9-OPTIM-MODEL](Plots/W9-OPTIM-MODEL.png)\n",
    "*Up: Optimize for a single user $j$; Bottom: optimize for all users*\n",
    "<br>\n",
    "![W9-GRAD-DESCENT](Plots/W9-GRAD-DESCENT.png)\n",
    "*Gradient Descent Formula*"
   ]
  },
  {
   "cell_type": "markdown",
   "metadata": {},
   "source": [
    "### Collaborative Filtering\n",
    "Predict rating only with existing users' rating and preference\n",
    "- The movies features are not available (cause the movie amount is huge)\n",
    "- Users provide their preference on different movie types $\\theta^{(j)}$\n",
    "\n",
    "Infer the movie feature vector $x^{(i)}$ based on different users' rating and their own taste\n",
    "\n",
    "#### Training\n",
    "##### Optimization Model for a single movie\n",
    "![W9-CF-OPTIM](Plots/W9-CF-OPTIM)\n",
    "\n",
    "<br>\n",
    "##### Optimization Model for all movies\n",
    "![W9-CF-OPTIM2](Plots/W9-CF-OPTIM2.png)\n",
    "\n"
   ]
  },
  {
   "cell_type": "markdown",
   "metadata": {},
   "source": [
    "### Solve for $x$ and $\\theta$ simultaneously\n",
    "#### Objective Function\n",
    "![W9-ALGO-SIM](Plots/W9-ALGO-SIM.png)\n",
    "\n",
    "#### Algorithm\n",
    "![W9-ALGO-SIM-STEP](Plots/W9-ALGO-SIM-STEP.png)\n"
   ]
  },
  {
   "cell_type": "markdown",
   "metadata": {},
   "source": [
    "## Implementation\n",
    "### Low Rank Matrxi Vectorization\n",
    "To compute the hypothesis: $X*\\Theta^T$\n",
    "- $X$ is a matrix listing each movies feature vectors: one row represents one movie\n",
    "- $\\Theta$ is a matrix listing each user's preference vectors: one row represents one user\n",
    "\n",
    "### Find similar movies\n",
    "Measure the similarity between two different movies: $||x^{(i)}-x^{(j)}||$ and select those who have small euclidean distance\n",
    "\n",
    "### Mean Normalization\n",
    "> Solve the problem: for a new user, we do not have his/her preference vector $\\theta$. Through Mean Normalization, it is equivalent to **initialize the preference vector with the movies' average rating**\n",
    "\n",
    "Subtract the Y matrix by each movie's average rating $\\mu$\n",
    "- Y is a matrix presenting user $j$'s rating on the movie $i$\n",
    "    - Each row represent a movie\n",
    "\n",
    "Learn $x^{(j)}$ from the algorithm\n",
    "\n",
    "For a new user $i$, predict the rating on the movie $j$ with formula: $(\\theta^{(j)})^T*x^{(i)} + \\mu_i$\n",
    "- Since this is a new user, the $\\theta^{(j)}$ is a **zero** vector\n"
   ]
  }
 ],
 "metadata": {
  "kernelspec": {
   "display_name": "Python 2",
   "language": "python",
   "name": "python2"
  },
  "language_info": {
   "codemirror_mode": {
    "name": "ipython",
    "version": 2
   },
   "file_extension": ".py",
   "mimetype": "text/x-python",
   "name": "python",
   "nbconvert_exporter": "python",
   "pygments_lexer": "ipython2",
   "version": "2.7.6"
  }
 },
 "nbformat": 4,
 "nbformat_minor": 1
}
