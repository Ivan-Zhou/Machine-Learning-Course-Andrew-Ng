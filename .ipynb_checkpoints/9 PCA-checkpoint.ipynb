{
 "cells": [
  {
   "cell_type": "markdown",
   "metadata": {},
   "source": [
    "## Dimensionality Reduction\n",
    "### Data Compression\n",
    "- Avoid overfitting\n",
    "- Speed up the programme\n",
    "- Lose the interpretability\n",
    "\n",
    "![W8-DATA-COMP1](Plots/W8-DATA-COMP1.png)\n",
    "![W8-DATA-COMP2](Plots/W8-DATA-COMP2.png)\n",
    "\n",
    "### Principal Component Analysis\n",
    "The Goal: Reduce the Dimension (number of attributes) in the dataset (from $R^n$ to $R^k$, $n > k$)\n",
    "- Find a direction (a vector of dimension $k$) onto which to project the data so as to **minimize the projection error**\n",
    "    - Project Error is the distance between the data points with direction\n",
    "    \n",
    "PCA is not linear regression\n",
    "- Linear Regression: minimize the square value of the **vertical distance** between the points and the line\n",
    "- PCA: minimize the orthorgonal distance between the points and the line\n",
    "    - And there is no y to be predicted\n",
    "\n",
    "#### Implementation\n",
    "Preprocessing:\n",
    "- Mean Normalization/Feature Scaling\n",
    "\n",
    "Compute the new directions: reduce $R^n$ to $R^k$ \n",
    "- Compute \"covariance matrix\": $\\Sigma = \\frac{1}{m} \\sum_{i=1}^n(x^{(i)})(x^{(i)})^T$ ($n*n$ matrix)\n",
    "- Compute the \"eigenvectors\" of matrix $\\Sigma$ (Also a $n*n$ matrix)\n",
    "    - Use **Singular Value Decomposition**: `[U,~,~] = svd(Sigma)`\n",
    "- If we want $k$ dimensions, we select the first k columns in U matrix ($n*k$ matrix)\n",
    "\n",
    "Project the original data to the new dimensions $Z \\in R^k$\n",
    "- $U_{reduced}'*X$\n",
    "- X is given in n*m\n",
    "    - Each column represent a sample and each row is a dimension\n",
    "- Output: a $k*m$ matrix"
   ]
  },
  {
   "cell_type": "code",
   "execution_count": null,
   "metadata": {
    "collapsed": true
   },
   "outputs": [],
   "source": [
    "Sigma = 1/m*X'*X;\n",
    "[U,~,~] = svd(Sigma);\n",
    "Ureduce = U(:,1:k);\n",
    "z = Ureduce'*x;"
   ]
  }
 ],
 "metadata": {
  "kernelspec": {
   "display_name": "Python 2",
   "language": "python",
   "name": "python2"
  },
  "language_info": {
   "codemirror_mode": {
    "name": "ipython",
    "version": 2
   },
   "file_extension": ".py",
   "mimetype": "text/x-python",
   "name": "python",
   "nbconvert_exporter": "python",
   "pygments_lexer": "ipython2",
   "version": "2.7.6"
  }
 },
 "nbformat": 4,
 "nbformat_minor": 1
}
